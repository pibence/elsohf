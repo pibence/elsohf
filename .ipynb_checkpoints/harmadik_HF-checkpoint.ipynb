{
 "cells": [
  {
   "cell_type": "markdown",
   "metadata": {},
   "source": [
    "**Operation function**"
   ]
  },
  {
   "cell_type": "code",
   "execution_count": 52,
   "metadata": {},
   "outputs": [],
   "source": [
    "def operation(what:str, **kwargs) -> float:\n",
    "\n",
    "    \"\"\"This function evaluates the expression written in the what string if \n",
    "    the expression contains only - and + signs between letters. The value for\n",
    "    the letters can be given as follows: a=3, b=4 after the expression. The\n",
    "    order does not matter.\"\"\"\n",
    "    \n",
    "    # Setting the value for the first number.\n",
    "    value = kwargs[what[0]]\n",
    "    \n",
    "    # Iterating through the string and evaluating the expressions.\n",
    "    for i in range(1, len(what), 2):\n",
    "\n",
    "        if what[i] == \"+\":\n",
    "            value += kwargs[what[i+1]]\n",
    "\n",
    "        if what[i] == \"-\":\n",
    "            value -= kwargs[what[i+1]]\n",
    "            \n",
    "    return value"
   ]
  },
  {
   "cell_type": "code",
   "execution_count": 63,
   "metadata": {},
   "outputs": [
    {
     "data": {
      "text/plain": [
       "5"
      ]
     },
     "execution_count": 63,
     "metadata": {},
     "output_type": "execute_result"
    }
   ],
   "source": [
    "operation(\"a-b+c\", a=3, b=2, c=4)\n"
   ]
  },
  {
   "cell_type": "markdown",
   "metadata": {},
   "source": [
    "**Squares of 4 largest numbers below 1000 with conditions**"
   ]
  },
  {
   "cell_type": "code",
   "execution_count": 82,
   "metadata": {},
   "outputs": [],
   "source": [
    "def squares(max:int, n:int):\n",
    "    \n",
    "    \"\"\"This function calculates the squares of the n greatest numbers\n",
    "    below a number given in max and returns a list.\"\"\"\n",
    "    \n",
    "    # Initializing list\n",
    "    squares_list = list()\n",
    "    \n",
    "    # Interating back from max and checking whether the conditions are true.\n",
    "    for i in range(max, 1, -1):\n",
    "        \n",
    "        if i % 11 == 0 and i % 3 != 0:\n",
    "            squares_list.append(i**2)\n",
    "        \n",
    "        # if the list already contains enough elements, the for loop breaks.\n",
    "        if len(squares_list) == n:\n",
    "            break \n",
    "    \n",
    "    return squares_list"
   ]
  },
  {
   "cell_type": "code",
   "execution_count": 83,
   "metadata": {},
   "outputs": [],
   "source": [
    "a, b, c, d = squares(1000, 4)"
   ]
  },
  {
   "cell_type": "code",
   "execution_count": 84,
   "metadata": {},
   "outputs": [
    {
     "name": "stdout",
     "output_type": "stream",
     "text": [
      "958441\n",
      "937024\n",
      "894916\n",
      "874225\n"
     ]
    }
   ],
   "source": [
    "print(a)\n",
    "print(b)\n",
    "print(c)\n",
    "print(d)"
   ]
  },
  {
   "cell_type": "code",
   "execution_count": null,
   "metadata": {},
   "outputs": [],
   "source": []
  }
 ],
 "metadata": {
  "kernelspec": {
   "display_name": "Python 3",
   "language": "python",
   "name": "python3"
  },
  "language_info": {
   "codemirror_mode": {
    "name": "ipython",
    "version": 3
   },
   "file_extension": ".py",
   "mimetype": "text/x-python",
   "name": "python",
   "nbconvert_exporter": "python",
   "pygments_lexer": "ipython3",
   "version": "3.9.1"
  }
 },
 "nbformat": 4,
 "nbformat_minor": 4
}
