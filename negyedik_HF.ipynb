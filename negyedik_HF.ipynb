{
 "cells": [
  {
   "cell_type": "markdown",
   "metadata": {},
   "source": [
    "# This is an oop model of a school\n"
   ]
  },
  {
   "cell_type": "markdown",
   "metadata": {},
   "source": [
    "## Creating the classes"
   ]
  },
  {
   "cell_type": "code",
   "execution_count": 32,
   "metadata": {},
   "outputs": [],
   "source": [
    "import datetime\n",
    "import gc\n",
    "\n",
    "'''order of creation: First school, groups, subjects, then students, teachers, director'''\n",
    "\n",
    "\n",
    "class School:\n",
    "    \"\"\"This is the main class about the school. It has a name and an address\n",
    "    that sould be given upon initializing. The sum of monthly paid salaries\n",
    "    can be determined by money_paid method.\"\"\"\n",
    "    \n",
    "    \n",
    "    def __init__(self, name:str, address:str):\n",
    "        self.school_name = name\n",
    "        self.address = address\n",
    "        \n",
    "    def money_paid_monthly(self):\n",
    "        \"\"\"This method calculates the monthly paid money by iterating\n",
    "        through the objects of the Teacher and Director class, calculating \n",
    "        their salary and adding them together.\"\"\"\n",
    "        \n",
    "        money = int()\n",
    "        \n",
    "        for obj in gc.get_objects():\n",
    "            \n",
    "            if isinstance(obj, Teacher):\n",
    "                money += obj.salary()\n",
    "        return money\n",
    "    \n",
    "\n",
    "class Human:\n",
    "    \"\"\"This class is about humans. They have 3 attributes : age, sex, and the \n",
    "    year they were born. Their current age is given by the age function.\"\"\"\n",
    "    \n",
    "    \n",
    "    def __init__(self, name:str, year_born:int, sex:str):\n",
    "        self.name = name\n",
    "        self.year_born = year_born\n",
    "        self.sex = sex\n",
    "    \n",
    "    def age(self):\n",
    "        \"This method returns the age of a human.\"\n",
    "        \n",
    "        year = datetime.datetime.now().year\n",
    "        return year - self.year_born\n",
    "\n",
    "    \n",
    "class Group:    \n",
    "    \"\"\"This class contains the existing groups (classes), like 1/B in the school.\n",
    "    Objects in this class sould be defined in the first place, before adding students\n",
    "    or teachers since students can be assigned to only existing groups. The existing \n",
    "    groups are stored in a class level list called groups.\"\"\"\n",
    "    \n",
    "    groups = []\n",
    "\n",
    "    def __init__(self, name):\n",
    "        self.group_name = name\n",
    "        Group.groups.append(name)\n",
    " \n",
    "class Student(Human):\n",
    "    \"\"\"This class is a child class of Human. It contains students with additional\n",
    "    attributes like their group(class), GPA, and parents's phone number.\"\"\"\n",
    "    \n",
    "    \n",
    "    def __init__(self, name:str, year_born:int, sex:str, group:str, GPA:int, phone_number:int):\n",
    "        self.GPA = GPA\n",
    "        self.parent_phone_number = phone_number\n",
    "        if group in Group.groups:\n",
    "            self.group = group \n",
    "        else:\n",
    "            print( \"Make sure you give an existing group!\")\n",
    "        super().__init__(name, year_born, sex) \n",
    "        \n",
    "      \n",
    "    \n",
    "class Teacher(Human):\n",
    "    \"\"\"This class is a child class of Human. The teachers by default are not form masters,\n",
    "    but with the fmaster method they can be assigned a group that they are form master of.\n",
    "    Upon initializing the lecture number, the wage and the taught subjects have to be given.\n",
    "    The salary method returns the monthly wage by multiplying the lectures and the wage. \n",
    "    The average GPA of the taught students can be printed by the avg_GPA method. In case \n",
    "    of form teacher, the students' average GPA can be printed by group_avg_GPA method.\"\"\"\n",
    "    \n",
    "    \n",
    "    form_master = False\n",
    "    \n",
    "    def __init__(self, name:str, year_born:int, sex:str, lecture_no:int, wage:int, *args):\n",
    "        super().__init__(name, year_born, sex)\n",
    "        self.lecture_per_week = lecture_no\n",
    "        self.wage_per_lecture = wage\n",
    "        \n",
    "        # Assigning the given subjects to the teacher. Also iterating through \n",
    "        # the object  in the subject class and collects the groups that are \n",
    "        # learning the given subjects and save them in the groups_taught\n",
    "        # attribute.\n",
    "        \n",
    "        self.subjects_taught = []\n",
    "        self.groups_taught = []\n",
    "        \n",
    "        for subj in args:\n",
    "            if subj in Subject.subjects:\n",
    "                self.subjects_taught.append(subj)\n",
    "            else:\n",
    "                return \"Make sure you give existing subjects!\"\n",
    "        \n",
    "        for obj in gc.get_objects():\n",
    "            if isinstance(obj, Subject) and obj.name in self.subjects_taught:\n",
    "                self.groups_taught.extend(obj.groups_learning)\n",
    "        \n",
    "        \n",
    "    def fmaster(self, group:str):\n",
    "        \"This method sets the form master attributes to a teacher.\"\n",
    "        \n",
    "        self.form_master = True\n",
    "        \n",
    "        if group in Group.groups:\n",
    "            self.master_group = group\n",
    "        else: \n",
    "            return \"Make sure you give an existing group!\"\n",
    "    \n",
    "\n",
    "    def salary(self):\n",
    "        \"This method calculates the monthly salary of a teacher.\"\n",
    "        \n",
    "        return self.lecture_per_week * self.wage_per_lecture * 4\n",
    "\n",
    "    \n",
    "    \n",
    "    def avg_GPA(self):\n",
    "        \"\"\"This method iterates through the objects in Student class and\n",
    "        calculates the average GPA of them if the teacher teaches them.\"\"\"\n",
    "        \n",
    "        sum_GPA = int()\n",
    "        n=0\n",
    "\n",
    "        if self.subjects_taught:\n",
    "            for obj in gc.get_objects():\n",
    "                if isinstance(obj, Student) and obj.group in self.groups_taught:\n",
    "                    n += 1\n",
    "                    sum_GPA += obj.GPA\n",
    "\n",
    "            return sum_GPA/n\n",
    "        else:\n",
    "            return \"This teacher has no subjects.\"\n",
    "\n",
    "    def group_avg_GPA(self):\n",
    "        \"\"\"This method iterates through the objects in Student class and \n",
    "        calculates the average GPA of the students if their form master is \n",
    "        the chosen teacher.\"\"\"\n",
    "        \n",
    "        if self.form_master:\n",
    "            \n",
    "            sum_GPA = int()\n",
    "            n=0\n",
    "\n",
    "            for obj in gc.get_objects():\n",
    "                if isinstance(obj, Student) and obj.group == self.master_group:\n",
    "                    n += 1\n",
    "                    sum_GPA += obj.GPA\n",
    "\n",
    "            return sum_GPA/n\n",
    "        else:\n",
    "            return \"The teacher is not a form master!\"\n",
    "    \n",
    "\n",
    "class Director(Teacher):\n",
    "    \"\"\"This class is a child of Teacher. In addition to the teacher's salary\n",
    "    the director also have a bonus for each month. The salary can also be \n",
    "    calculated by the salary method.\"\"\"\n",
    "    \n",
    "    \n",
    "    def __init__(self, name:str, year_born:int, sex:str, lecture_no:int, wage:int, bonus):\n",
    "        self.bonus = bonus\n",
    "        super().__init__(name, year_born, sex, lecture_no, wage)\n",
    "        \n",
    "    def salary(self):\n",
    "        \"\"\"Similarly to the teacher's salary method it gives the salary of the\n",
    "        director.\"\"\"\n",
    "        \n",
    "        return self.lecture_per_week * self.wage_per_lecture * 4 + self.bonus\n",
    "\n",
    "        \n",
    "class Subject:\n",
    "    \"\"\"This class is for subjects. It has two basic attributes: name and\n",
    "    description. The groups that are learning these subjects can be given\n",
    "    by the add_group method.\"\"\"\n",
    "    \n",
    "    subjects = []\n",
    "    \n",
    "    \n",
    "    def __init__(self, name:str, desc:str):\n",
    "        self.name = name \n",
    "        self.description = desc \n",
    "        Subject.subjects.append(name)\n",
    "        \n",
    "    def add_group(self, *args):\n",
    "        \"This method assigns groups to subjects.\"\n",
    "        \n",
    "        self.groups_learning = []\n",
    "        \n",
    "        for gr in args:\n",
    "            if gr in Group.groups:\n",
    "                self.groups_learning.append(gr)\n",
    "            else:\n",
    "                return \"Make sure you give existing groups!\""
   ]
  },
  {
   "cell_type": "markdown",
   "metadata": {},
   "source": [
    "## Creating objects in classes"
   ]
  },
  {
   "cell_type": "code",
   "execution_count": 10,
   "metadata": {},
   "outputs": [
    {
     "name": "stdout",
     "output_type": "stream",
     "text": [
      "Make sure you give an existing group!\n"
     ]
    }
   ],
   "source": [
    "diak1 = Student(\"Kis Béla\", 1997, \"male\", \"1/b\", 3.5, 3640505050)"
   ]
  },
  {
   "cell_type": "code",
   "execution_count": 33,
   "metadata": {},
   "outputs": [],
   "source": [
    "iskola = School(\"Bajza\", \"Makó\")\n",
    "\n",
    "osztaly1 = Group(\"1/b\")\n",
    "osztaly2 = Group(\"2/c\")\n",
    "osztaly3 = Group(\"4/b\")\n",
    "\n",
    "tantargy1 = Subject(\"történelem\", \"egyetemes történelem\")\n",
    "tantargy1.add_group(\"1/b\", \"2/c\")\n",
    "tantargy2 = Subject(\"magyar\", \"magyar nyelv és irodalom\")\n",
    "tantargy2.add_group(\"2/c\", \"4/b\")\n",
    "tantargy3 = Subject(\"matek\", \"matematika\")\n",
    "tantargy3.add_group(\"1/b\", \"4/b\")\n",
    "\n",
    "diak1 = Student(\"Kis Béla\", 1997, \"male\", \"1/b\", 3.5, 3640505050)\n",
    "diak2 = Student(\"Nagy Balázs\", 1997, \"male\", \"2/c\", 3.8, 3640505049)\n",
    "diak3 = Student(\"Károly Kornél\", 1998, \"male\", \"1/b\", 4.2, 3640505048)\n",
    "diak4 = Student(\"Kiss Nikolett\", 1996, \"female\", \"4/b\", 5.0, 3640505047)\n",
    "diak5 = Student(\"Juhász Péter\", 1965, \"male\", \"2/c\", 2.5, 3640505046)\n",
    "diak7 = Student(\"Bárány Bernadett\", 1997, \"female\", \"2/c\", 4.8, 3640505044)\n",
    "diak8 = Student(\"Kovács József\", 1995, \"male\", \"1/b\", 3.3, 3640505043)\n",
    "diak9 = Student(\"Látnok László\", 2000, \"male\", \"1/b\", 4.15, 3640505042)\n",
    "diak10 = Student(\"Buzás Petronella\", 1960, \"female\",\"4/b\", 4.46, 3640505041)\n",
    "\n",
    "tanar1 = Teacher(\"Kis András\", 1963, \"male\", 24, 2400, \"történelem\")\n",
    "tanar2 = Teacher(\"Nagy Andrea\", 1978, \"female\", 28, 2400, \"matek\")\n",
    "tanar3 = Teacher(\"Almaevő Anna\", 1950, \"female\", 18, 1500, \"magyar\")\n",
    "tanar4 = Teacher(\"Bartalos Bálint\", 1970, \"male\", 4, 2400)\n",
    "tanar4.fmaster(\"1/b\")\n",
    "tanar5 = Teacher(\"Kis Luca\", 1980, \"female\", 3, 2000)\n",
    "tanar5.fmaster(\"4/b\")\n",
    "tanar6 = Teacher(\"Fiatal Flóra\", 1990, \"female\", 5, 2200)\n",
    "tanar6.fmaster(\"2/c\")\n",
    "\n",
    "igazgato = Director(\"Gál Béla\", 1950, \"male\",0, 1000, 350000)"
   ]
  },
  {
   "cell_type": "markdown",
   "metadata": {},
   "source": [
    "## Testing the methods"
   ]
  },
  {
   "cell_type": "markdown",
   "metadata": {},
   "source": [
    "#### Havi kifizetett összeg"
   ]
  },
  {
   "cell_type": "code",
   "execution_count": 20,
   "metadata": {},
   "outputs": [
    {
     "data": {
      "text/plain": [
       "1063600"
      ]
     },
     "execution_count": 20,
     "metadata": {},
     "output_type": "execute_result"
    }
   ],
   "source": [
    "iskola.money_paid_monthly()"
   ]
  },
  {
   "cell_type": "markdown",
   "metadata": {},
   "source": [
    "#### Tanárok fizetése"
   ]
  },
  {
   "cell_type": "code",
   "execution_count": 63,
   "metadata": {},
   "outputs": [
    {
     "name": "stdout",
     "output_type": "stream",
     "text": [
      "Sajt Sándor : 36000\n",
      "Kis András : 230400\n",
      "Nagy Andrea : 268800\n",
      "Almaevő Anna : 108000\n",
      "Kis Luca : 24000\n",
      "Fiatal Flóra : 44000\n",
      "Gál Béla : 350000\n"
     ]
    }
   ],
   "source": [
    "for obj in gc.get_objects():\n",
    "    if isinstance(obj, Teacher):\n",
    "        print(obj.name, \":\" , obj.salary())"
   ]
  },
  {
   "cell_type": "markdown",
   "metadata": {},
   "source": [
    "#### Tanárok értékelése\n",
    "\n",
    "csak a szaktanárokat értékelem, hiszen ők tanítanak valójában"
   ]
  },
  {
   "cell_type": "code",
   "execution_count": 64,
   "metadata": {},
   "outputs": [
    {
     "data": {
      "text/plain": [
       "('Sajt Sándor', 4.265000000000001)"
      ]
     },
     "execution_count": 64,
     "metadata": {},
     "output_type": "execute_result"
    }
   ],
   "source": [
    "d = {obj.name : obj.avg_GPA() for obj in gc. get_objects() if isinstance(obj, Teacher) and obj.form_master != True  and isinstance(obj, Director) != True}\n",
    "max(d.items(), key = lambda k : k[1])"
   ]
  },
  {
   "cell_type": "markdown",
   "metadata": {},
   "source": [
    "#### "
   ]
  },
  {
   "cell_type": "markdown",
   "metadata": {},
   "source": [
    "Osztályfőnökök értékelése"
   ]
  },
  {
   "cell_type": "code",
   "execution_count": 65,
   "metadata": {},
   "outputs": [
    {
     "data": {
      "text/plain": [
       "('Kis Luca', (4.265000000000001, '4/b'))"
      ]
     },
     "execution_count": 65,
     "metadata": {},
     "output_type": "execute_result"
    }
   ],
   "source": [
    "d = {obj.name : (obj.group_avg_GPA(), obj.master_group) for obj in gc. get_objects() if isinstance(obj, Teacher) and obj.form_master == True}\n",
    "max(d.items(), key = lambda k : k[1])"
   ]
  },
  {
   "cell_type": "markdown",
   "metadata": {},
   "source": [
    "#### Diákok értékelése"
   ]
  },
  {
   "cell_type": "code",
   "execution_count": 66,
   "metadata": {},
   "outputs": [
    {
     "data": {
      "text/plain": [
       "('Kutya Károly', 1.4)"
      ]
     },
     "execution_count": 66,
     "metadata": {},
     "output_type": "execute_result"
    }
   ],
   "source": [
    "d = {obj.name : obj.GPA for obj in gc. get_objects() if isinstance(obj, Student)}\n",
    "min(d.items(), key = lambda k : k[1])"
   ]
  },
  {
   "cell_type": "markdown",
   "metadata": {},
   "source": [
    "## Adding newcomers"
   ]
  },
  {
   "cell_type": "code",
   "execution_count": 62,
   "metadata": {},
   "outputs": [],
   "source": [
    "diak11 = Student(\"Kutya Károly\", 1999, \"male\", \"2/c\", 1.4, 3640504040)\n",
    "diak12 = Student(\"Macska Márta\", 1997, \"female\", \"4/b\", 2.95, 3640504050)\n",
    "diak13 = Student(\"Béka Benő\", 1994, \"male\", \"4/b\", 4.65, 3640504060)\n",
    "diak14 = Student(\"Hörcsög Blanka\", 2000, \"female\", \"1/b\", 4.0, 3640504070)\n",
    "\n",
    "tantargy4 = Subject(\"technika\", \"techocol szipuzás 101\")\n",
    "tantargy4.add_group(\"4/b\")\n",
    "\n",
    "tanar4 = Teacher(\"Sajt Sándor\", 1976, \"mamale\", 6, 1500, \"technika\")"
   ]
  },
  {
   "cell_type": "code",
   "execution_count": null,
   "metadata": {},
   "outputs": [],
   "source": []
  }
 ],
 "metadata": {
  "kernelspec": {
   "display_name": "Python 3",
   "language": "python",
   "name": "python3"
  },
  "language_info": {
   "codemirror_mode": {
    "name": "ipython",
    "version": 3
   },
   "file_extension": ".py",
   "mimetype": "text/x-python",
   "name": "python",
   "nbconvert_exporter": "python",
   "pygments_lexer": "ipython3",
   "version": "3.9.1"
  }
 },
 "nbformat": 4,
 "nbformat_minor": 4
}
